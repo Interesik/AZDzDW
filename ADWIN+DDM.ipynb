{
 "cells": [
  {
   "cell_type": "code",
   "execution_count": 1,
   "metadata": {},
   "outputs": [
    {
     "name": "stdout",
     "output_type": "stream",
     "text": [
      "Change detected at index 6687, input value: [1]\n",
      "Change detected at index 8895, input value: [2]\n",
      "Change detected at index 14687, input value: [3]\n",
      "Change detected at index 15327, input value: [4]\n",
      "Change detected at index 138\n",
      "Change detected at index 408\n",
      "Change detected at index 510\n",
      "Change detected at index 722\n"
     ]
    }
   ],
   "source": [
    "import pandas as pd\n",
    "import numpy as np\n",
    "from river import drift\n",
    "adwin = drift.ADWIN()\n",
    "data_stream = pd.read_csv('mitbih_train_33.csv')\n",
    "data_stream = data_stream.iloc[:, -1:].astype(int).to_numpy()\n",
    "for i, val in enumerate(data_stream):\n",
    "    adwin.update(val)\n",
    "    if adwin.drift_detected:\n",
    "        print(f\"Change detected at index {i}, input value: {val}\")\n",
    "\n",
    "\n",
    "ddm = drift.binary.DDM()\n",
    "data_stream_binary = pd.read_csv('synthetic_network_traffic.csv')\n",
    "data_stream_binary = data_stream_binary.iloc[:, -1:].astype(int).to_numpy()\n",
    "for i, val in enumerate(data_stream_binary):\n",
    "    ddm.update(val)\n",
    "    if ddm.warning_detected and print_warning:\n",
    "        print(f\"Warning detected at index {i}\")\n",
    "        print_warning = False\n",
    "    if ddm.drift_detected:\n",
    "        print(f\"Change detected at index {i}\")\n",
    "        print_warning = True\n",
    "\n"
   ]
  }
 ],
 "metadata": {
  "kernelspec": {
   "display_name": "Python 3",
   "language": "python",
   "name": "python3"
  },
  "language_info": {
   "codemirror_mode": {
    "name": "ipython",
    "version": 3
   },
   "file_extension": ".py",
   "mimetype": "text/x-python",
   "name": "python",
   "nbconvert_exporter": "python",
   "pygments_lexer": "ipython3",
   "version": "3.11.5"
  }
 },
 "nbformat": 4,
 "nbformat_minor": 2
}
