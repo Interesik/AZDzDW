{
 "cells": [
  {
   "cell_type": "code",
   "execution_count": 21,
   "metadata": {},
   "outputs": [
    {
     "name": "stdout",
     "output_type": "stream",
     "text": [
      "Change detected at index 6687, input value: [1]\n",
      "Change detected at index 8895, input value: [2]\n",
      "Change detected at index 14687, input value: [3]\n",
      "Change detected at index 15327, input value: [4]\n"
     ]
    }
   ],
   "source": [
    "import pandas as pd\n",
    "import numpy as np\n",
    "from river import drift\n",
    "adwin = drift.ADWIN()\n",
    "data_stream = pd.read_csv('mitbih_train_33.csv')\n",
    "data_stream = data_stream.iloc[:, -1:].astype(int).to_numpy()\n",
    "for i, val in enumerate(data_stream):\n",
    "    adwin.update(val)\n",
    "    if adwin.drift_detected:\n",
    "        print(f\"Change detected at index {i}, input value: {val}\")"
   ]
  }
 ],
 "metadata": {
  "kernelspec": {
   "display_name": ".venv",
   "language": "python",
   "name": "python3"
  },
  "language_info": {
   "codemirror_mode": {
    "name": "ipython",
    "version": 3
   },
   "file_extension": ".py",
   "mimetype": "text/x-python",
   "name": "python",
   "nbconvert_exporter": "python",
   "pygments_lexer": "ipython3",
   "version": "3.12.6"
  }
 },
 "nbformat": 4,
 "nbformat_minor": 2
}
