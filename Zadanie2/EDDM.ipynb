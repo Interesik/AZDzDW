{
 "cells": [
  {
   "cell_type": "code",
   "execution_count": null,
   "metadata": {},
   "outputs": [],
   "source": [
    "# Imports\n",
    "import numpy as np\n",
    "from skmultiflow.drift_detection.eddm import EDDM\n",
    "eddm = EDDM()\n",
    "# Simulating a data stream as a normal distribution of 1's and 0's\n",
    "data_stream = np.random.randint(2, size=2000)\n",
    "# Changing the data concept from index 999 to 1500, simulating an \n",
    "# increase in error rate\n",
    "for i in range(999, 1500):\n",
    "    data_stream[i] = 0\n",
    "# Adding stream elements to EDDM and verifying if drift occurred\n",
    "for i in range(2000):\n",
    "    eddm.add_element(data_stream[i])\n",
    "    if eddm.detected_warning_zone():\n",
    "        print('Warning zone has been detected in data: ' + str(data_stream[i]) + ' - of index: ' + str(i))\n",
    "    if eddm.detected_change():\n",
    "        print('Change has been detected in data: ' + str(data_stream[i]) + ' - of index: ' + str(i))"
   ]
  }
 ],
 "metadata": {
  "kernelspec": {
   "display_name": ".venv",
   "language": "python",
   "name": "python3"
  },
  "language_info": {
   "name": "python",
   "version": "3.12.6"
  }
 },
 "nbformat": 4,
 "nbformat_minor": 2
}
