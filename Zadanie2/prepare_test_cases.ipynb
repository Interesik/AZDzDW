{
 "cells": [
  {
   "cell_type": "code",
   "execution_count": 35,
   "metadata": {},
   "outputs": [],
   "source": [
    "import pandas as pd\n",
    "# dataSet https://www.kaggle.com/datasets/shayanfazeli/heartbeat/data\n",
    "df = pd.read_csv(\n",
    "         'mitbih_train_33.csv',\n",
    "         header=0,\n",
    ")\n",
    "\n",
    "df = df.drop(df.columns[0], axis=1)\n",
    "df.columns = [*range(187),'class']\n",
    "df.where(df['class'] == 0.0).dropna().reset_index(drop=True).to_csv('mitbih_test_33_class_0.csv')\n",
    "df.where(df['class'] == 1.0).dropna().reset_index(drop=True).to_csv('mitbih_test_33_class_1.csv')\n",
    "df.where(df['class'] == 2.0).dropna().reset_index(drop=True).to_csv('mitbih_test_33_class_2.csv')\n",
    "df.where(df['class'] == 3.0).dropna().reset_index(drop=True).to_csv('mitbih_test_33_class_3.csv')\n",
    "df.where(df['class'] == 4.0).dropna().reset_index(drop=True).to_csv('mitbih_test_33_class_4.csv')"
   ]
  }
 ],
 "metadata": {
  "kernelspec": {
   "display_name": ".venv",
   "language": "python",
   "name": "python3"
  },
  "language_info": {
   "codemirror_mode": {
    "name": "ipython",
    "version": 3
   },
   "file_extension": ".py",
   "mimetype": "text/x-python",
   "name": "python",
   "nbconvert_exporter": "python",
   "pygments_lexer": "ipython3",
   "version": "3.12.6"
  }
 },
 "nbformat": 4,
 "nbformat_minor": 2
}
