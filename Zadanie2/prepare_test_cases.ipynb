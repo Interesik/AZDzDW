{
 "cells": [
  {
   "cell_type": "code",
   "execution_count": 7,
   "metadata": {},
   "outputs": [],
   "source": [
    "import pandas as pd\n",
    "# dataSet https://www.kaggle.com/datasets/shayanfazeli/heartbeat/data\n",
    "df = pd.read_csv(\n",
    "         'mitbih_train_33.csv',\n",
    "         header=0,\n",
    ")\n",
    "\n",
    "df = df.drop(df.columns[0], axis=1)\n",
    "df.columns = [*range(187),'class']\n",
    "\n",
    "class1 = df.where(df['class'] == 0.0).dropna().reset_index(drop=True).iloc[:25]\n",
    "class2 = df.where(df['class'] == 1.0).dropna().reset_index(drop=True).iloc[:25]\n",
    "class3 = df.where(df['class'] == 2.0).dropna().reset_index(drop=True).iloc[:25]\n",
    "class4 = df.where(df['class'] == 3.0).dropna().reset_index(drop=True).iloc[:25]\n",
    "class5 = df.where(df['class'] == 4.0).dropna().reset_index(drop=True).iloc[:25]\n",
    "DTW_data = pd.concat([class1,class2,class3,class4,class5])\n",
    "DTW_data.to_csv(\"DTW_train_data.csv\")"
   ]
  }
 ],
 "metadata": {
  "kernelspec": {
   "display_name": ".venv",
   "language": "python",
   "name": "python3"
  },
  "language_info": {
   "codemirror_mode": {
    "name": "ipython",
    "version": 3
   },
   "file_extension": ".py",
   "mimetype": "text/x-python",
   "name": "python",
   "nbconvert_exporter": "python",
   "pygments_lexer": "ipython3",
   "version": "3.12.6"
  }
 },
 "nbformat": 4,
 "nbformat_minor": 2
}
