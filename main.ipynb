{
 "cells": [
  {
   "cell_type": "code",
   "execution_count": 19,
   "metadata": {},
   "outputs": [
    {
     "data": {
      "text/plain": [
       "class\n",
       "0.0    1658\n",
       "1.0     556\n",
       "2.0    1448\n",
       "3.0     162\n",
       "4.0    1608\n",
       "Name: 0, dtype: int64"
      ]
     },
     "execution_count": 19,
     "metadata": {},
     "output_type": "execute_result"
    }
   ],
   "source": [
    "import pandas as pd\n",
    "# dataSet https://www.kaggle.com/datasets/shayanfazeli/heartbeat/data\n",
    "df = pd.read_csv(\n",
    "         'mitbih_test.csv',\n",
    "         header=0,\n",
    ")\n",
    "df.columns = [*range(187),'class']\n",
    "full_size = len(df)\n",
    "hist = df.iloc[int(full_size/1.33):].groupby('class').count()\n",
    "df.iloc[int(full_size/1.33):].to_csv('mitbih_test_33.csv')\n",
    "hist[0].head()"
   ]
  },
  {
   "cell_type": "markdown",
   "metadata": {},
   "source": []
  }
 ],
 "metadata": {
  "kernelspec": {
   "display_name": "Python 3",
   "language": "python",
   "name": "python3"
  },
  "language_info": {
   "codemirror_mode": {
    "name": "ipython",
    "version": 3
   },
   "file_extension": ".py",
   "mimetype": "text/x-python",
   "name": "python",
   "nbconvert_exporter": "python",
   "pygments_lexer": "ipython3",
   "version": "3.6.15"
  }
 },
 "nbformat": 4,
 "nbformat_minor": 2
}
